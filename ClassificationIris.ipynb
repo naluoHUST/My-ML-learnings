{
  "cells": [
    {
      "cell_type": "markdown",
      "metadata": {
        "id": "view-in-github",
        "colab_type": "text"
      },
      "source": [
        "<a href=\"https://colab.research.google.com/github/naluoHUST/My-ML-learnings/blob/master/ClassificationIris.ipynb\" target=\"_parent\"><img src=\"https://colab.research.google.com/assets/colab-badge.svg\" alt=\"Open In Colab\"/></a>"
      ]
    },
    {
      "cell_type": "code",
      "execution_count": null,
      "metadata": {
        "id": "YcGEMjEmvQlp"
      },
      "outputs": [],
      "source": [
        "from sklearn.datasets import load_iris\n",
        "from sklearn.model_selection import train_test_split\n",
        "import torch\n",
        "import torch.nn as nn\n",
        "import torch.nn.functional as F"
      ]
    },
    {
      "cell_type": "code",
      "execution_count": null,
      "metadata": {
        "colab": {
          "base_uri": "https://localhost:8080/"
        },
        "id": "SmPKhIpfvjO7",
        "outputId": "f68261f3-a8d0-4eab-f4d3-5a5f4e41eda4"
      },
      "outputs": [
        {
          "data": {
            "text/plain": [
              "(150, 4)"
            ]
          },
          "execution_count": 2,
          "metadata": {},
          "output_type": "execute_result"
        }
      ],
      "source": [
        "data = load_iris()\n",
        "data.data.shape"
      ]
    },
    {
      "cell_type": "code",
      "execution_count": null,
      "metadata": {
        "colab": {
          "base_uri": "https://localhost:8080/"
        },
        "id": "jflvM8xavq7B",
        "outputId": "4c048722-d179-4cca-91fb-b5dbd388b3ab"
      },
      "outputs": [
        {
          "data": {
            "text/plain": [
              "(150,)"
            ]
          },
          "execution_count": 3,
          "metadata": {},
          "output_type": "execute_result"
        }
      ],
      "source": [
        "data.target.shape"
      ]
    },
    {
      "cell_type": "code",
      "execution_count": null,
      "metadata": {
        "id": "ftk0kUr2v1gB"
      },
      "outputs": [],
      "source": [
        "X_train, X_test, Y_train, Y_test = train_test_split(\n",
        "    data.data,\n",
        "    data.target,\n",
        "    test_size = 0.4\n",
        ")"
      ]
    },
    {
      "cell_type": "code",
      "execution_count": null,
      "metadata": {
        "id": "Ep28pFUQ2Vm6"
      },
      "outputs": [],
      "source": [
        "X_valid, X_test, Y_valid, Y_test = train_test_split(\n",
        "    X_test,\n",
        "    Y_test,\n",
        "    test_size = 0.5\n",
        ")"
      ]
    },
    {
      "cell_type": "code",
      "execution_count": null,
      "metadata": {
        "colab": {
          "base_uri": "https://localhost:8080/"
        },
        "id": "QSPc3AFR2gYg",
        "outputId": "354e4ddf-c5a5-4ca4-f176-fbfe94df6d68"
      },
      "outputs": [
        {
          "data": {
            "text/plain": [
              "((90, 4), (30, 4), (30, 4))"
            ]
          },
          "execution_count": 6,
          "metadata": {},
          "output_type": "execute_result"
        }
      ],
      "source": [
        "X_train.shape,X_valid.shape,X_test.shape"
      ]
    },
    {
      "cell_type": "code",
      "execution_count": null,
      "metadata": {
        "id": "ZP0hkgR8wLBb"
      },
      "outputs": [],
      "source": [
        "from sklearn.preprocessing import StandardScaler\n",
        "scaler = StandardScaler()\n",
        "scaler.fit(X_train)\n",
        "X_train = scaler.transform(X_train)\n",
        "X_valid = scaler.transform(X_valid)\n",
        "X_test = scaler.transform(X_test)\n",
        "\n",
        "X_train = torch.tensor(X_train, dtype=torch.float32)\n",
        "X_valid = torch.tensor(X_valid, dtype=torch.float32)\n",
        "X_test = torch.tensor(X_test, dtype=torch.float32)\n",
        "Y_train = torch.tensor(Y_train)\n",
        "Y_valid = torch.tensor(Y_valid)\n",
        "Y_test = torch.tensor(Y_test)\n",
        "\n",
        "model = nn.Sequential(\n",
        "    nn.Linear(4,6),\n",
        "    nn.ReLU(),\n",
        "    nn.Linear(6,3)\n",
        ")\n",
        "loss_fn=nn.CrossEntropyLoss()\n",
        "lr = 0.01\n",
        "optimizer = torch.optim.SGD(model.parameters(),lr)\n",
        "\n",
        "def evaluate(model,X_valid,Y_valid):\n",
        "  with torch.no_grad():\n",
        "    Y_pred = model(X_valid)\n",
        "  Y_pred = torch.argmax(Y_pred,dim=1)\n",
        "  return sum(Y_pred==Y_valid)/len(Y_valid)\n"
      ]
    },
    {
      "cell_type": "code",
      "execution_count": null,
      "metadata": {
        "colab": {
          "background_save": true
        },
        "id": "fvfdeLBTyfgm",
        "outputId": "8d04896f-f3ad-4e53-df8b-5b54c230fa61"
      },
      "outputs": [
        {
          "name": "stdout",
          "output_type": "stream",
          "text": [
            "Epoch 0 -- Loss 0.9629086825582717 -- Acc 0.5666666626930237\n",
            "Epoch 1 -- Loss 0.8220062739319272 -- Acc 0.5666666626930237\n",
            "Epoch 2 -- Loss 0.6882609108255969 -- Acc 0.6666666865348816\n",
            "Epoch 3 -- Loss 0.5860986857364575 -- Acc 0.7666666507720947\n",
            "Epoch 4 -- Loss 0.5138421115361982 -- Acc 0.8333333134651184\n",
            "Epoch 5 -- Loss 0.45989011948307357 -- Acc 0.8333333134651184\n",
            "Epoch 6 -- Loss 0.4165140876546502 -- Acc 0.8999999761581421\n",
            "Epoch 7 -- Loss 0.37980843140847154 -- Acc 0.8999999761581421\n",
            "Epoch 8 -- Loss 0.34787122628962003 -- Acc 0.9333333373069763\n",
            "Epoch 9 -- Loss 0.3198716688176824 -- Acc 0.9333333373069763\n",
            "Epoch 10 -- Loss 0.2951097134086821 -- Acc 0.9333333373069763\n",
            "Epoch 11 -- Loss 0.273202237021178 -- Acc 0.9333333373069763\n",
            "Epoch 12 -- Loss 0.25405935325866774 -- Acc 0.9666666388511658\n",
            "Epoch 13 -- Loss 0.23721476633412142 -- Acc 0.9666666388511658\n",
            "Epoch 14 -- Loss 0.22211105947175788 -- Acc 0.9666666388511658\n",
            "Epoch 15 -- Loss 0.20849446300417185 -- Acc 0.9666666388511658\n",
            "Epoch 16 -- Loss 0.1961088585253391 -- Acc 0.9666666388511658\n",
            "Epoch 17 -- Loss 0.18482801004364674 -- Acc 0.9666666388511658\n",
            "Epoch 18 -- Loss 0.17443614701818053 -- Acc 0.9666666388511658\n",
            "Epoch 19 -- Loss 0.16486774269853616 -- Acc 0.9666666388511658\n",
            "Epoch 20 -- Loss 0.15613012743285962 -- Acc 0.9666666388511658\n",
            "Epoch 21 -- Loss 0.1480635764905148 -- Acc 0.9666666388511658\n",
            "Epoch 22 -- Loss 0.14071934028826136 -- Acc 0.9666666388511658\n",
            "Epoch 23 -- Loss 0.13393358694221308 -- Acc 0.9666666388511658\n",
            "Epoch 24 -- Loss 0.1276919977299662 -- Acc 0.9666666388511658\n",
            "Epoch 25 -- Loss 0.12194290162814367 -- Acc 0.9666666388511658\n",
            "Epoch 26 -- Loss 0.11662760187302612 -- Acc 0.9666666388511658\n",
            "Epoch 27 -- Loss 0.11183037438281139 -- Acc 0.9666666388511658\n",
            "Epoch 28 -- Loss 0.10741465935425368 -- Acc 0.9666666388511658\n",
            "Epoch 29 -- Loss 0.10335160774637997 -- Acc 0.9666666388511658\n",
            "Epoch 30 -- Loss 0.09958235790254548 -- Acc 0.9666666388511658\n",
            "Epoch 31 -- Loss 0.09607828240421239 -- Acc 0.9666666388511658\n",
            "Epoch 32 -- Loss 0.0928160232816784 -- Acc 0.9666666388511658\n",
            "Epoch 33 -- Loss 0.08977500903306969 -- Acc 0.9666666388511658\n",
            "Epoch 34 -- Loss 0.08695454914712981 -- Acc 0.9666666388511658\n",
            "Epoch 35 -- Loss 0.08430492746467483 -- Acc 0.9666666388511658\n",
            "Epoch 36 -- Loss 0.08182459722924654 -- Acc 0.9666666388511658\n",
            "Epoch 37 -- Loss 0.07957013797373899 -- Acc 0.9666666388511658\n",
            "Epoch 38 -- Loss 0.07741583655911705 -- Acc 0.9666666388511658\n",
            "Epoch 39 -- Loss 0.07544157178098329 -- Acc 0.9666666388511658\n",
            "Epoch 40 -- Loss 0.07353342446557588 -- Acc 0.9666666388511658\n",
            "Epoch 41 -- Loss 0.07177862934675229 -- Acc 0.9666666388511658\n",
            "Epoch 42 -- Loss 0.07009768682439446 -- Acc 0.9666666388511658\n",
            "Epoch 43 -- Loss 0.068489506939477 -- Acc 0.9666666388511658\n",
            "Epoch 44 -- Loss 0.06700673254090361 -- Acc 0.9666666388511658\n",
            "Epoch 45 -- Loss 0.06557567334319982 -- Acc 0.9666666388511658\n",
            "Epoch 46 -- Loss 0.06420053872779034 -- Acc 0.9666666388511658\n",
            "Epoch 47 -- Loss 0.06293014080229113 -- Acc 0.9666666388511658\n",
            "Epoch 48 -- Loss 0.06169866403971456 -- Acc 0.9666666388511658\n",
            "Epoch 49 -- Loss 0.060526060469813577 -- Acc 0.9666666388511658\n",
            "Epoch 50 -- Loss 0.05939290830685624 -- Acc 0.9666666388511658\n",
            "Epoch 51 -- Loss 0.05834260976304601 -- Acc 0.9666666388511658\n",
            "Epoch 52 -- Loss 0.05731929407503331 -- Acc 0.9666666388511658\n",
            "Epoch 53 -- Loss 0.05632738245388585 -- Acc 0.9666666388511658\n",
            "Epoch 54 -- Loss 0.055406805322677936 -- Acc 0.9666666388511658\n",
            "Epoch 55 -- Loss 0.05450668098203298 -- Acc 0.9666666388511658\n",
            "Epoch 56 -- Loss 0.053642790043335886 -- Acc 0.9666666388511658\n",
            "Epoch 57 -- Loss 0.052812558911434986 -- Acc 0.9666666388511658\n",
            "Epoch 58 -- Loss 0.05200245644512304 -- Acc 0.9666666388511658\n",
            "Epoch 59 -- Loss 0.051247770720942755 -- Acc 0.9666666388511658\n",
            "Epoch 60 -- Loss 0.050506110969377 -- Acc 0.9666666388511658\n",
            "Epoch 61 -- Loss 0.049792131762791944 -- Acc 0.9666666388511658\n",
            "Epoch 62 -- Loss 0.04910381807758818 -- Acc 0.9666666388511658\n",
            "Epoch 63 -- Loss 0.04843958175606531 -- Acc 0.9666666388511658\n",
            "Epoch 64 -- Loss 0.047798054523592426 -- Acc 0.9666666388511658\n",
            "Epoch 65 -- Loss 0.04717802117923308 -- Acc 0.9666666388511658\n",
            "Epoch 66 -- Loss 0.04657831969225299 -- Acc 0.9666666388511658\n",
            "Epoch 67 -- Loss 0.04599792196716963 -- Acc 0.9666666388511658\n",
            "Epoch 68 -- Loss 0.045435862554499336 -- Acc 0.9666666388511658\n",
            "Epoch 69 -- Loss 0.04489112890295877 -- Acc 0.9666666388511658\n",
            "Epoch 70 -- Loss 0.044362959563251377 -- Acc 0.9666666388511658\n",
            "Epoch 71 -- Loss 0.043850486015310254 -- Acc 0.9666666388511658\n",
            "Epoch 72 -- Loss 0.04335299069579024 -- Acc 0.9666666388511658\n",
            "Epoch 73 -- Loss 0.042869765556839134 -- Acc 0.9666666388511658\n",
            "Epoch 74 -- Loss 0.04240010739352442 -- Acc 0.9666666388511658\n",
            "Epoch 75 -- Loss 0.04194342769316866 -- Acc 0.9666666388511658\n",
            "Epoch 76 -- Loss 0.041499133204584066 -- Acc 0.9666666388511658\n",
            "Epoch 77 -- Loss 0.0410666649064486 -- Acc 0.9666666388511658\n",
            "Epoch 78 -- Loss 0.04064546422474993 -- Acc 0.9666666388511658\n",
            "Epoch 79 -- Loss 0.040235095180226055 -- Acc 0.9666666388511658\n",
            "Epoch 80 -- Loss 0.039835093978419105 -- Acc 0.9666666388511658\n",
            "Epoch 81 -- Loss 0.03944497649683569 -- Acc 0.9666666388511658\n",
            "Epoch 82 -- Loss 0.03906437448200014 -- Acc 0.9666666388511658\n",
            "Epoch 83 -- Loss 0.03869286387572243 -- Acc 0.9666666388511658\n",
            "Epoch 84 -- Loss 0.0383931975176081 -- Acc 0.9666666388511658\n",
            "Epoch 85 -- Loss 0.03802639501983391 -- Acc 0.9666666388511658\n",
            "Epoch 86 -- Loss 0.037678533783602815 -- Acc 0.9666666388511658\n",
            "Epoch 87 -- Loss 0.03734257960962463 -- Acc 0.9666666388511658\n",
            "Epoch 88 -- Loss 0.03701561404464471 -- Acc 0.9666666388511658\n",
            "Epoch 89 -- Loss 0.03669626954603389 -- Acc 0.9666666388511658\n",
            "Epoch 90 -- Loss 0.036383819415196764 -- Acc 0.9666666388511658\n",
            "Epoch 91 -- Loss 0.03607786032381321 -- Acc 0.9666666388511658\n",
            "Epoch 92 -- Loss 0.035778084340624065 -- Acc 0.9666666388511658\n",
            "Epoch 93 -- Loss 0.03548424243285295 -- Acc 0.9666666388511658\n",
            "Epoch 94 -- Loss 0.035196103763064375 -- Acc 0.9666666388511658\n",
            "Epoch 95 -- Loss 0.03491348211318829 -- Acc 0.9666666388511658\n",
            "Epoch 96 -- Loss 0.034676078203917944 -- Acc 0.9666666388511658\n",
            "Epoch 97 -- Loss 0.034397780251856525 -- Acc 0.9666666388511658\n",
            "Epoch 98 -- Loss 0.034129007206310055 -- Acc 0.9666666388511658\n",
            "Epoch 99 -- Loss 0.0338668715909484 -- Acc 0.9666666388511658\n",
            "[0.9629086825582717, 0.8220062739319272, 0.6882609108255969, 0.5860986857364575, 0.5138421115361982, 0.45989011948307357, 0.4165140876546502, 0.37980843140847154, 0.34787122628962003, 0.3198716688176824, 0.2951097134086821, 0.273202237021178, 0.25405935325866774, 0.23721476633412142, 0.22211105947175788, 0.20849446300417185, 0.1961088585253391, 0.18482801004364674, 0.17443614701818053, 0.16486774269853616, 0.15613012743285962, 0.1480635764905148, 0.14071934028826136, 0.13393358694221308, 0.1276919977299662, 0.12194290162814367, 0.11662760187302612, 0.11183037438281139, 0.10741465935425368, 0.10335160774637997, 0.09958235790254548, 0.09607828240421239, 0.0928160232816784, 0.08977500903306969, 0.08695454914712981, 0.08430492746467483, 0.08182459722924654, 0.07957013797373899, 0.07741583655911705, 0.07544157178098329, 0.07353342446557588, 0.07177862934675229, 0.07009768682439446, 0.068489506939477, 0.06700673254090361, 0.06557567334319982, 0.06420053872779034, 0.06293014080229113, 0.06169866403971456, 0.060526060469813577, 0.05939290830685624, 0.05834260976304601, 0.05731929407503331, 0.05632738245388585, 0.055406805322677936, 0.05450668098203298, 0.053642790043335886, 0.052812558911434986, 0.05200245644512304, 0.051247770720942755, 0.050506110969377, 0.049792131762791944, 0.04910381807758818, 0.04843958175606531, 0.047798054523592426, 0.04717802117923308, 0.04657831969225299, 0.04599792196716963, 0.045435862554499336, 0.04489112890295877, 0.044362959563251377, 0.043850486015310254, 0.04335299069579024, 0.042869765556839134, 0.04240010739352442, 0.04194342769316866, 0.041499133204584066, 0.0410666649064486, 0.04064546422474993, 0.040235095180226055, 0.039835093978419105, 0.03944497649683569, 0.03906437448200014, 0.03869286387572243, 0.0383931975176081, 0.03802639501983391, 0.037678533783602815, 0.03734257960962463, 0.03701561404464471, 0.03669626954603389, 0.036383819415196764, 0.03607786032381321, 0.035778084340624065, 0.03548424243285295, 0.035196103763064375, 0.03491348211318829, 0.034676078203917944, 0.034397780251856525, 0.034129007206310055, 0.0338668715909484]\n"
          ]
        }
      ],
      "source": [
        "epochs = 100\n",
        "losses = []\n",
        "for epoch in range(epochs):\n",
        "  epoch_loss = []\n",
        "  for x,y in zip(X_train, Y_train):\n",
        "    y_pred = model(x)\n",
        "    loss = loss_fn(y_pred,y)\n",
        "    epoch_loss.append(loss.item())\n",
        "    optimizer.zero_grad()\n",
        "    loss.backward()\n",
        "    optimizer.step()\n",
        "  avg_loss = sum(epoch_loss)/len(epoch_loss)\n",
        "  acc = evaluate(model,X_valid,Y_valid)\n",
        "  print(f\"Epoch {epoch} -- Loss {avg_loss} -- Acc {acc}\")\n",
        "  losses.append(avg_loss)\n",
        "\n",
        "print(losses)"
      ]
    },
    {
      "cell_type": "code",
      "execution_count": null,
      "metadata": {
        "colab": {
          "background_save": true
        },
        "id": "D5zNf263zR2D",
        "outputId": "41f425bf-0b5c-4f6c-90a5-444e2c98fcd8"
      },
      "outputs": [
        {
          "data": {
            "text/plain": [
              "[<matplotlib.lines.Line2D at 0x78b859520310>]"
            ]
          },
          "execution_count": 9,
          "metadata": {},
          "output_type": "execute_result"
        },
        {
          "data": {
            "image/png": "[encoded data removed]",
            "text/plain": [
              "<Figure size 640x480 with 1 Axes>"
            ]
          },
          "metadata": {},
          "output_type": "display_data"
        }
      ],
      "source": [
        "import matplotlib.pyplot as plt\n",
        "plt.plot(losses)"
      ]
    },
    {
      "cell_type": "code",
      "execution_count": null,
      "metadata": {
        "colab": {
          "background_save": true
        },
        "id": "BmhK6QyAzo-S",
        "outputId": "a93fa8d6-4071-40af-f1c3-bfd861b3f22f"
      },
      "outputs": [
        {
          "data": {
            "text/plain": [
              "tensor(0.9333)"
            ]
          },
          "execution_count": 10,
          "metadata": {},
          "output_type": "execute_result"
        }
      ],
      "source": [
        "with torch.no_grad():\n",
        "  Y_pred = model(X_test)\n",
        "Y_pred = torch.argmax(Y_pred,dim=1)\n",
        "Acc = sum(Y_pred==Y_test)/len(Y_test)\n",
        "Acc"
      ]
    }
  ],
  "metadata": {
    "colab": {
      "provenance": [],
      "authorship_tag": "ABX9TyM330LQMAgyje7XWQ3kTORQ",
      "include_colab_link": true
    },
    "kernelspec": {
      "display_name": "Python 3",
      "name": "python3"
    },
    "language_info": {
      "name": "python"
    }
  },
  "nbformat": 4,
  "nbformat_minor": 0
}